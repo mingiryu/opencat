{
 "cells": [
  {
   "cell_type": "code",
   "execution_count": 1,
   "id": "6ae3ea6f",
   "metadata": {},
   "outputs": [],
   "source": [
    "from isbnlib import *"
   ]
  },
  {
   "cell_type": "code",
   "execution_count": 2,
   "id": "ee97a434",
   "metadata": {},
   "outputs": [
    {
     "data": {
      "text/plain": [
       "'9789585522343'"
      ]
     },
     "execution_count": 2,
     "metadata": {},
     "output_type": "execute_result"
    }
   ],
   "source": [
    "canonical('978-958-5522-34-3')"
   ]
  },
  {
   "cell_type": "code",
   "execution_count": 3,
   "id": "7f867671",
   "metadata": {},
   "outputs": [
    {
     "data": {
      "text/plain": [
       "'9789585522343'"
      ]
     },
     "execution_count": 3,
     "metadata": {},
     "output_type": "execute_result"
    }
   ],
   "source": [
    "to_isbn13('978-958-5522-34-3')"
   ]
  },
  {
   "cell_type": "code",
   "execution_count": 4,
   "id": "6640f948",
   "metadata": {},
   "outputs": [
    {
     "data": {
      "text/plain": [
       "'978-958-5522-34-3'"
      ]
     },
     "execution_count": 4,
     "metadata": {},
     "output_type": "execute_result"
    }
   ],
   "source": [
    "clean('978-958-5522-34-3')"
   ]
  },
  {
   "cell_type": "code",
   "execution_count": 5,
   "id": "2da26161",
   "metadata": {},
   "outputs": [
    {
     "data": {
      "text/plain": [
       "['978-958-5522-34-3']"
      ]
     },
     "execution_count": 5,
     "metadata": {},
     "output_type": "execute_result"
    }
   ],
   "source": [
    "get_isbnlike('978-958-5522-34-3')"
   ]
  },
  {
   "cell_type": "code",
   "execution_count": 6,
   "id": "eadf6cd8",
   "metadata": {},
   "outputs": [
    {
     "data": {
      "text/plain": [
       "'9789585522343'"
      ]
     },
     "execution_count": 6,
     "metadata": {},
     "output_type": "execute_result"
    }
   ],
   "source": [
    "get_canonical_isbn('978-958-5522-34-3')"
   ]
  },
  {
   "cell_type": "code",
   "execution_count": 7,
   "id": "77facd93",
   "metadata": {},
   "outputs": [
    {
     "data": {
      "text/plain": [
       "'9789585522343'"
      ]
     },
     "execution_count": 7,
     "metadata": {},
     "output_type": "execute_result"
    }
   ],
   "source": [
    "ean13('978-958-5522-34-3')"
   ]
  },
  {
   "cell_type": "code",
   "execution_count": null,
   "id": "1ae37d78",
   "metadata": {},
   "outputs": [],
   "source": []
  }
 ],
 "metadata": {
  "kernelspec": {
   "display_name": "Python 3 (ipykernel)",
   "language": "python",
   "name": "python3"
  },
  "language_info": {
   "codemirror_mode": {
    "name": "ipython",
    "version": 3
   },
   "file_extension": ".py",
   "mimetype": "text/x-python",
   "name": "python",
   "nbconvert_exporter": "python",
   "pygments_lexer": "ipython3",
   "version": "3.10.6"
  }
 },
 "nbformat": 4,
 "nbformat_minor": 5
}
