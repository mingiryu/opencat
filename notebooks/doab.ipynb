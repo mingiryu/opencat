{
 "cells": [
  {
   "cell_type": "code",
   "execution_count": 1,
   "id": "4d4f0c64",
   "metadata": {},
   "outputs": [],
   "source": [
    "from opencat.doab import *"
   ]
  },
  {
   "cell_type": "code",
   "execution_count": 2,
   "id": "4866de2e",
   "metadata": {},
   "outputs": [],
   "source": [
    "tree = etree.parse(SRC)\n",
    "root = tree.getroot()\n",
    "products = root.findall(\".//onix:Product\", namespaces=NAMESPACES)"
   ]
  },
  {
   "cell_type": "code",
   "execution_count": 3,
   "id": "0d461fbf",
   "metadata": {},
   "outputs": [
    {
     "data": {
      "text/plain": [
       "{'id': 'OAPEN-ID_4df760a0-2253-406f-8c0a-c9d6a14ab3c2',\n",
       " 'doab': 'ONIX_20200923_9783839450215_9',\n",
       " 'isbn': '9783839450215',\n",
       " 'doi': '10.14361/9783839450215',\n",
       " 'title': 'Kultur und soziale Praxis',\n",
       " 'subtitle': 'Actors, Challenges and Solutions',\n",
       " 'contributors': [{'position': '1',\n",
       "   'role': 'editor',\n",
       "   'keynames': 'Epple',\n",
       "   'forenames': 'Susanne'},\n",
       "  {'position': '2',\n",
       "   'role': 'editor',\n",
       "   'keynames': 'Assefa',\n",
       "   'forenames': 'Getachew'}],\n",
       " 'description': \"Being a home to more than 80 ethnic groups, Ethiopia has to balance normative diversity with efforts to implement state law across its territory. This volume explores the co-existence of state, customary, and religious legal forums from the perspective of legal practitioners and local justice seekers. It shows how the various stakeholders' use of negotiation, and their strategic application of law can lead to unwanted confusion, but also to sustainable conflict resolution, innovative new procedures and hybrid norms. The book thus generates important knowledge on the conditions necessary for stimulating a cooperative co-existence of different legal systems.\",\n",
       " 'thumbnail': 'https://directory.doabooks.org/bitstream/handle/20.500.12854/26299/9783839450215.pdf.jpg?sequence=1',\n",
       " 'publisher': 'transcript Verlag',\n",
       " 'year': '2020',\n",
       " 'url': 'https://library.oapen.org/bitstream/20.500.12657/41792/1/9783839450215.pdf'}"
      ]
     },
     "execution_count": 3,
     "metadata": {},
     "output_type": "execute_result"
    }
   ],
   "source": [
    "Product(products[400]).to_dict()"
   ]
  },
  {
   "cell_type": "code",
   "execution_count": 4,
   "id": "2775c2eb",
   "metadata": {},
   "outputs": [
    {
     "data": {
      "text/html": [
       "<div><style>\n",
       ".dataframe > thead > tr > th,\n",
       ".dataframe > tbody > tr > td {\n",
       "  text-align: right;\n",
       "}\n",
       "</style>\n",
       "<small>shape: (66559, 12)</small><table border=\"1\" class=\"dataframe\"><thead><tr><th>id</th><th>doab</th><th>isbn</th><th>doi</th><th>title</th><th>subtitle</th><th>contributors</th><th>description</th><th>thumbnail</th><th>publisher</th><th>year</th><th>url</th></tr><tr><td>str</td><td>str</td><td>str</td><td>str</td><td>str</td><td>str</td><td>list[struct[4]]</td><td>str</td><td>str</td><td>str</td><td>str</td><td>str</td></tr></thead><tbody><tr><td>&quot;OAPEN-ID_7853d…</td><td>&quot;ONIX_20211118_…</td><td>&quot;9782889630097&quot;</td><td>&quot;10.3389/978-2-…</td><td>&quot;Public Health …</td><td>null</td><td>[{&quot;1&quot;,&quot;editor&quot;,&quot;Lacaze&quot;,&quot;Paul&quot;}, {&quot;2&quot;,&quot;editor&quot;,&quot;Baynam&quot;,&quot;Gareth&quot;}]</td><td>&quot;This eBook is …</td><td>&quot;https://direct…</td><td>&quot;Frontiers Medi…</td><td>&quot;2019&quot;</td><td>&quot;https://www.fr…</td></tr><tr><td>&quot;OAPEN-ID_b575c…</td><td>&quot;22713&quot;</td><td>&quot;9782821844124&quot;</td><td>null</td><td>&quot;Oruro 1781: Su…</td><td>null</td><td>[{&quot;1&quot;,&quot;author&quot;,&quot;de la Vega&quot;,&quot;Fernando Cajías&quot;}]</td><td>&quot;“ORURO 1781: S…</td><td>&quot;https://direct…</td><td>&quot;Institut franç…</td><td>&quot;2005&quot;</td><td>&quot;http://books.o…</td></tr><tr><td>&quot;OAPEN-ID_23a88…</td><td>&quot;41792&quot;</td><td>&quot;9782753560093&quot;</td><td>&quot;10.4000/books.…</td><td>&quot;Solange Corbin…</td><td>null</td><td>[{&quot;1&quot;,&quot;author&quot;,&quot;Gribenski&quot;,&quot;Jean&quot;}, {&quot;2&quot;,&quot;author&quot;,&quot;His&quot;,&quot;Isabelle&quot;}, {&quot;3&quot;,&quot;author&quot;,&quot;Cazaux-Kowalski&quot;,&quot;Christelle&quot;}]</td><td>&quot;Le présent ouv…</td><td>&quot;https://direct…</td><td>&quot;Presses univer…</td><td>&quot;2015&quot;</td><td>&quot;http://books.o…</td></tr><tr><td>&quot;OAPEN-ID_7b7b4…</td><td>&quot;39967&quot;</td><td>&quot;9782847888454&quot;</td><td>&quot;10.4000/books.…</td><td>&quot;Le lycée profe…</td><td>null</td><td>[{&quot;1&quot;,&quot;author&quot;,&quot;Buisson-Fenet&quot;,&quot;Hélène&quot;}, {&quot;2&quot;,&quot;author&quot;,&quot;Rey&quot;,&quot;Olivier&quot;}]</td><td>&quot;Le bac profess…</td><td>&quot;https://direct…</td><td>&quot;ENS Éditions&quot;</td><td>&quot;2016&quot;</td><td>&quot;http://books.o…</td></tr><tr><td>&quot;OAPEN-ID_50cd3…</td><td>&quot;20242&quot;</td><td>&quot;9783486715194&quot;</td><td>&quot;10.1524/978348…</td><td>&quot;Pariser Histor…</td><td>null</td><td>[{&quot;1&quot;,&quot;author&quot;,&quot;Léon&quot;,&quot;Cristina&quot;}]</td><td>&quot;Die Pariser Vo…</td><td>&quot;https://direct…</td><td>&quot;De Gruyter&quot;</td><td>&quot;2012&quot;</td><td>&quot;https://doi.or…</td></tr><tr><td>&quot;OAPEN-ID_aff6b…</td><td>&quot;29465&quot;</td><td>&quot;9783845270364&quot;</td><td>null</td><td>&quot;Abhandlungen z…</td><td>&quot;Das skandinavi…</td><td>[{&quot;1&quot;,&quot;author&quot;,&quot;Trumpke&quot;,&quot;Felix&quot;}]</td><td>&quot;Subject of thi…</td><td>&quot;https://direct…</td><td>&quot;Nomos Verlagsg…</td><td>&quot;2016&quot;</td><td>&quot;https://www.no…</td></tr><tr><td>&quot;OAPEN-ID_68125…</td><td>&quot;15824&quot;</td><td>&quot;9782351591758&quot;</td><td>null</td><td>&quot;La gent d’État…</td><td>null</td><td>[{&quot;1&quot;,&quot;author&quot;,&quot;Colette Establet&quot;,&quot;Jean-Paul Pascual&quot;}]</td><td>&quot;Dans cet ouvra…</td><td>&quot;https://direct…</td><td>&quot;Presses de l’I…</td><td>&quot;2011&quot;</td><td>&quot;http://books.o…</td></tr><tr><td>&quot;OAPEN-ID_dd887…</td><td>&quot;ONIX_20220121_…</td><td>&quot;9781839694073&quot;</td><td>&quot;10.5772/intech…</td><td>&quot;Middleware Arc…</td><td>null</td><td>[{&quot;1&quot;,&quot;editor&quot;,&quot;Ajana El Khaddar&quot;,&quot;Mehdia&quot;}]</td><td>&quot;Middleware ref…</td><td>&quot;https://direct…</td><td>&quot;IntechOpen&quot;</td><td>&quot;2021&quot;</td><td>&quot;https://www.in…</td></tr><tr><td>&quot;OAPEN-ID_6c706…</td><td>&quot;ONIX_20210420_…</td><td>&quot;9781839625114&quot;</td><td>&quot;10.5772/intech…</td><td>&quot;Feed Your Mind…</td><td>&quot;How Does Nutri…</td><td>[{&quot;1&quot;,&quot;editor&quot;,&quot;Bosch-Bouju&quot;,&quot;Clémentine&quot;}, {&quot;2&quot;,&quot;editor&quot;,&quot;Layé&quot;,&quot;Sophie&quot;}, {&quot;3&quot;,&quot;editor&quot;,&quot;Pallet&quot;,&quot;Véronique&quot;}]</td><td>&quot;Nutrition is a…</td><td>&quot;https://direct…</td><td>&quot;IntechOpen&quot;</td><td>&quot;2019&quot;</td><td>&quot;https://mts.in…</td></tr><tr><td>&quot;OAPEN-ID_251fc…</td><td>&quot;ONIX_20210420_…</td><td>&quot;9789533071350&quot;</td><td>&quot;10.5772/253&quot;</td><td>&quot;Satellite Comm…</td><td>null</td><td>[{&quot;1&quot;,&quot;editor&quot;,&quot;Diodato&quot;,&quot;Nazzareno&quot;}]</td><td>&quot;This study is …</td><td>&quot;https://direct…</td><td>&quot;IntechOpen&quot;</td><td>&quot;2010&quot;</td><td>&quot;https://mts.in…</td></tr><tr><td>&quot;OAPEN-ID_d242d…</td><td>&quot;51757&quot;</td><td>&quot;9783111669489&quot;</td><td>&quot;10.1515/978311…</td><td>&quot;Datenbanksyste…</td><td>null</td><td>[{&quot;1&quot;,&quot;author&quot;,&quot;Ahrens&quot;,&quot;Friedhelm&quot;}, {&quot;2&quot;,&quot;author&quot;,&quot;Walter&quot;,&quot;Helmut&quot;}]</td><td>null</td><td>null</td><td>&quot;De Gruyter&quot;</td><td>&quot;1971&quot;</td><td>&quot;https://doi.or…</td></tr><tr><td>&quot;OAPEN-ID_c28c0…</td><td>&quot;41252&quot;</td><td>&quot;9791036502118&quot;</td><td>&quot;10.4000/books.…</td><td>&quot;Nouvelles écri…</td><td>null</td><td>[{&quot;1&quot;,&quot;author&quot;,&quot;Godin&quot;,&quot;Jean Cléo&quot;}]</td><td>&quot;Le terme « bar…</td><td>&quot;https://direct…</td><td>&quot;Presses de l’U…</td><td>&quot;2001&quot;</td><td>&quot;http://books.o…</td></tr><tr><td>&hellip;</td><td>&hellip;</td><td>&hellip;</td><td>&hellip;</td><td>&hellip;</td><td>&hellip;</td><td>&hellip;</td><td>&hellip;</td><td>&hellip;</td><td>&hellip;</td><td>&hellip;</td><td>&hellip;</td></tr><tr><td>&quot;OAPEN-ID_efd26…</td><td>&quot;ONIX_20230405_…</td><td>&quot;9783036569758&quot;</td><td>&quot;10.3390/books9…</td><td>&quot;Sustainable Pr…</td><td>null</td><td>[{&quot;1&quot;,&quot;editor&quot;,&quot;Palet&quot;,&quot;Cristina&quot;}, {&quot;2&quot;,&quot;editor&quot;,&quot;Bastos-Arrieta&quot;,&quot;Julio&quot;}]</td><td>&quot;This article c…</td><td>&quot;https://direct…</td><td>&quot;MDPI - Multidi…</td><td>&quot;2023&quot;</td><td>&quot;https://mdpi.c…</td></tr><tr><td>&quot;OAPEN-ID_cfa9b…</td><td>null</td><td>&quot;9786125069696&quot;</td><td>&quot;10.35622/inudi…</td><td>&quot;Guía metodológ…</td><td>&quot;Categorización…</td><td>[{&quot;1&quot;,&quot;author&quot;,&quot;Condori-Chura&quot;,&quot;Delia&quot;}, {&quot;2&quot;,&quot;author&quot;,&quot;Flores&quot;,&quot;Antonio&quot;}, … {&quot;4&quot;,&quot;author&quot;,&quot;Gutiérrez&quot;,&quot;Lézany&quot;}]</td><td>&quot;El presente tr…</td><td>&quot;https://direct…</td><td>&quot;Instituto Univ…</td><td>&quot;2023&quot;</td><td>&quot;https://doi.or…</td></tr><tr><td>&quot;OAPEN-ID_ee037…</td><td>&quot;ONIX_20230405_…</td><td>&quot;9783036571263&quot;</td><td>&quot;10.3390/books9…</td><td>&quot;Microfluidics …</td><td>null</td><td>[{&quot;1&quot;,&quot;editor&quot;,&quot;Xiang&quot;,&quot;Nan&quot;}, {&quot;2&quot;,&quot;editor&quot;,&quot;Ni&quot;,&quot;Zhonghua&quot;}]</td><td>&quot;This reprint f…</td><td>&quot;https://direct…</td><td>&quot;MDPI - Multidi…</td><td>&quot;2023&quot;</td><td>&quot;https://mdpi.c…</td></tr><tr><td>&quot;OAPEN-ID_9e9cc…</td><td>null</td><td>&quot;9786125069641&quot;</td><td>&quot;10.35622/inudi…</td><td>&quot;Narración y ex…</td><td>null</td><td>[{&quot;1&quot;,&quot;author&quot;,&quot;Lupo&quot;,&quot;Nelly&quot;}, {&quot;2&quot;,&quot;author&quot;,&quot;Herrera&quot;,&quot;Alhi&quot;}, {&quot;3&quot;,&quot;author&quot;,&quot;Cotrado&quot;,&quot;Sheylla&quot;}]</td><td>&quot;El libro es un…</td><td>&quot;https://direct…</td><td>&quot;Instituto Univ…</td><td>&quot;2023&quot;</td><td>&quot;https://doi.or…</td></tr><tr><td>&quot;OAPEN-ID_3b00b…</td><td>null</td><td>&quot;9786125069689&quot;</td><td>&quot;10.35622/inudi…</td><td>&quot;TICs y rendimi…</td><td>null</td><td>[{&quot;1&quot;,&quot;author&quot;,&quot;Ortiz&quot;,&quot;Jaime&quot;}, {&quot;2&quot;,&quot;author&quot;,&quot;Quispe&quot;,&quot;Heydi&quot;}, … {&quot;7&quot;,&quot;editor&quot;,&quot;Surichaqui&quot;,&quot;Franklin&quot;}]</td><td>&quot;El libro es un…</td><td>&quot;https://direct…</td><td>&quot;Instituto Univ…</td><td>&quot;2023&quot;</td><td>&quot;https://doi.or…</td></tr><tr><td>&quot;OAPEN-ID_8f32e…</td><td>null</td><td>&quot;9786125069658&quot;</td><td>&quot;10.35622/inudi…</td><td>&quot;Monitoreo peda…</td><td>null</td><td>[{&quot;1&quot;,&quot;author&quot;,&quot;Lupo&quot;,&quot;Nelly&quot;}, {&quot;2&quot;,&quot;author&quot;,&quot;Herrera&quot;,&quot;Alhi&quot;}, {&quot;3&quot;,&quot;author&quot;,&quot;Cotrado&quot;,&quot;Sheylla&quot;}]</td><td>&quot;El libro es un…</td><td>&quot;https://direct…</td><td>&quot;Instituto Univ…</td><td>&quot;2023&quot;</td><td>&quot;https://doi.or…</td></tr><tr><td>&quot;OAPEN-ID_4b20f…</td><td>&quot;1002431&quot;</td><td>&quot;9783937816098&quot;</td><td>&quot;10.15460/HUP.S…</td><td>&quot;Veröffentlichu…</td><td>null</td><td>[{&quot;1&quot;,&quot;editor&quot;,&quot;Hering&quot;,&quot;Rainer&quot;}, {&quot;2&quot;,&quot;editor&quot;,&quot;Schäfer&quot;,&quot;Udo&quot;}, {&quot;3&quot;,&quot;editor&quot;,&quot;der Freien und Hansestadt Hamburg&quot;,&quot;Staatsarchiv&quot;}]</td><td>&quot;Digital storag…</td><td>&quot;https://direct…</td><td>&quot;Hamburg Univer…</td><td>&quot;2004&quot;</td><td>&quot;https://librar…</td></tr><tr><td>&quot;OAPEN-ID_c473a…</td><td>null</td><td>&quot;9783748938767&quot;</td><td>&quot;10.5771/978374…</td><td>&quot;Schriften zum …</td><td>&quot;Unter besonder…</td><td>[{&quot;1&quot;,&quot;author&quot;,&quot;Schmitt-Mücke&quot;,&quot;Caroline&quot;}]</td><td>&quot;The dissertati…</td><td>&quot;https://direct…</td><td>&quot;Nomos Verlagsg…</td><td>&quot;2023&quot;</td><td>null</td></tr><tr><td>&quot;OAPEN-ID_a2a13…</td><td>&quot;1004962&quot;</td><td>&quot;9781787352537&quot;</td><td>&quot;10.14324/111.9…</td><td>&quot;Reflexive Tran…</td><td>&quot;Translation as…</td><td>[{&quot;1&quot;,&quot;author&quot;,&quot;Kadiu&quot;,&quot;Silvia&quot;}]</td><td>&quot;In the past de…</td><td>&quot;https://direct…</td><td>&quot;UCL Press&quot;</td><td>&quot;2019&quot;</td><td>&quot;https://librar…</td></tr><tr><td>&quot;OAPEN-ID_7ab3b…</td><td>&quot;1002415&quot;</td><td>&quot;9783937816708&quot;</td><td>&quot;10.15460/HUP.M…</td><td>&quot;Mäzene für Wis…</td><td>null</td><td>[{&quot;1&quot;,&quot;author&quot;,&quot;Schröder&quot;,&quot;Hans Joachim&quot;}, {&quot;2&quot;,&quot;editor&quot;,&quot;Nümann&quot;,&quot;Ekkehard W.&quot;}, {&quot;3&quot;,&quot;editor&quot;,&quot;Wissenschaftliche Stiftung&quot;,&quot;Hamburgische&quot;}]</td><td>&quot;Ernst Friedric…</td><td>&quot;https://direct…</td><td>&quot;Hamburg Univer…</td><td>&quot;2009&quot;</td><td>&quot;https://librar…</td></tr><tr><td>&quot;OAPEN-ID_a56ce…</td><td>null</td><td>&quot;9791255100164&quot;</td><td>null</td><td>&quot;Consonanze&quot;</td><td>null</td><td>[{&quot;1&quot;,&quot;author&quot;,&quot;Narros&quot;,&quot;Jacopo&quot;}]</td><td>&quot;An abbot, a jo…</td><td>&quot;https://direct…</td><td>&quot;Milano Univers…</td><td>&quot;2023&quot;</td><td>&quot;https://libri.…</td></tr><tr><td>&quot;OAPEN-ID_29b8a…</td><td>&quot;48938&quot;</td><td>&quot;9783428555413&quot;</td><td>&quot;10.3790/978-3-…</td><td>&quot;Deutsche Gesch…</td><td>&quot;Hrsg. von Thom…</td><td>[{&quot;1&quot;,&quot;author&quot;,&quot;Sombart&quot;,&quot;Werner&quot;}, {&quot;2&quot;,&quot;editor&quot;,&quot;Kroll&quot;,&quot;Thomas&quot;}, … {&quot;4&quot;,&quot;editor&quot;,&quot;Schellenberger&quot;,&quot;Michael&quot;}]</td><td>&quot;The select cor…</td><td>&quot;https://direct…</td><td>&quot;Duncker &amp; Humb…</td><td>&quot;2019&quot;</td><td>null</td></tr></tbody></table></div>"
      ],
      "text/plain": [
       "shape: (66_559, 12)\n",
       "┌────────────┬────────────┬────────────┬────────────┬───┬───────────┬───────────┬──────┬───────────┐\n",
       "│ id         ┆ doab       ┆ isbn       ┆ doi        ┆ … ┆ thumbnail ┆ publisher ┆ year ┆ url       │\n",
       "│ ---        ┆ ---        ┆ ---        ┆ ---        ┆   ┆ ---       ┆ ---       ┆ ---  ┆ ---       │\n",
       "│ str        ┆ str        ┆ str        ┆ str        ┆   ┆ str       ┆ str       ┆ str  ┆ str       │\n",
       "╞════════════╪════════════╪════════════╪════════════╪═══╪═══════════╪═══════════╪══════╪═══════════╡\n",
       "│ OAPEN-ID_7 ┆ ONIX_20211 ┆ 9782889630 ┆ 10.3389/97 ┆ … ┆ https://d ┆ Frontiers ┆ 2019 ┆ https://w │\n",
       "│ 853dc44-d6 ┆ 118_978288 ┆ 097        ┆ 8-2-88963- ┆   ┆ irectory. ┆ Media SA  ┆      ┆ ww.fronti │\n",
       "│ f3-44c1-a5 ┆ 9630097_30 ┆            ┆ 009-7      ┆   ┆ doabooks. ┆           ┆      ┆ ersin.org │\n",
       "│ 2e…        ┆ 6          ┆            ┆            ┆   ┆ org/b…    ┆           ┆      ┆ /rese…    │\n",
       "│ OAPEN-ID_b ┆ 22713      ┆ 9782821844 ┆ null       ┆ … ┆ https://d ┆ Institut  ┆ 2005 ┆ http://bo │\n",
       "│ 575c8ab-58 ┆            ┆ 124        ┆            ┆   ┆ irectory. ┆ français  ┆      ┆ oks.opene │\n",
       "│ 10-4883-8d ┆            ┆            ┆            ┆   ┆ doabooks. ┆ d’études  ┆      ┆ dition.or │\n",
       "│ f1…        ┆            ┆            ┆            ┆   ┆ org/b…    ┆ andin…    ┆      ┆ g/ife…    │\n",
       "│ OAPEN-ID_2 ┆ 41792      ┆ 9782753560 ┆ 10.4000/bo ┆ … ┆ https://d ┆ Presses   ┆ 2015 ┆ http://bo │\n",
       "│ 3a88dfd-1b ┆            ┆ 093        ┆ oks.pur.96 ┆   ┆ irectory. ┆ universit ┆      ┆ oks.opene │\n",
       "│ da-49a4-85 ┆            ┆            ┆ 397        ┆   ┆ doabooks. ┆ aires de  ┆      ┆ dition.or │\n",
       "│ 53…        ┆            ┆            ┆            ┆   ┆ org/b…    ┆ Rennes    ┆      ┆ g/pur…    │\n",
       "│ OAPEN-ID_7 ┆ 39967      ┆ 9782847888 ┆ 10.4000/bo ┆ … ┆ https://d ┆ ENS       ┆ 2016 ┆ http://bo │\n",
       "│ b7b4c5b-5d ┆            ┆ 454        ┆ oks.ensedi ┆   ┆ irectory. ┆ Éditions  ┆      ┆ oks.opene │\n",
       "│ 3e-4894-9c ┆            ┆            ┆ tions.7299 ┆   ┆ doabooks. ┆           ┆      ┆ dition.or │\n",
       "│ f1…        ┆            ┆            ┆            ┆   ┆ org/b…    ┆           ┆      ┆ g/ens…    │\n",
       "│ …          ┆ …          ┆ …          ┆ …          ┆ … ┆ …         ┆ …         ┆ …    ┆ …         │\n",
       "│ OAPEN-ID_a ┆ 1004962    ┆ 9781787352 ┆ 10.14324/1 ┆ … ┆ https://d ┆ UCL Press ┆ 2019 ┆ https://l │\n",
       "│ 2a13ef5-86 ┆            ┆ 537        ┆ 11.9781787 ┆   ┆ irectory. ┆           ┆      ┆ ibrary.oa │\n",
       "│ 45-45a9-92 ┆            ┆            ┆ 352513     ┆   ┆ doabooks. ┆           ┆      ┆ pen.org/b │\n",
       "│ d8…        ┆            ┆            ┆            ┆   ┆ org/b…    ┆           ┆      ┆ itstr…    │\n",
       "│ OAPEN-ID_7 ┆ 1002415    ┆ 9783937816 ┆ 10.15460/H ┆ … ┆ https://d ┆ Hamburg   ┆ 2009 ┆ https://l │\n",
       "│ ab3b540-d7 ┆            ┆ 708        ┆ UP.MFW.7.9 ┆   ┆ irectory. ┆ Universit ┆      ┆ ibrary.oa │\n",
       "│ a2-4dc6-8c ┆            ┆            ┆ 6          ┆   ┆ doabooks. ┆ y Press   ┆      ┆ pen.org/b │\n",
       "│ a6…        ┆            ┆            ┆            ┆   ┆ org/b…    ┆           ┆      ┆ itstr…    │\n",
       "│ OAPEN-ID_a ┆ null       ┆ 9791255100 ┆ null       ┆ … ┆ https://d ┆ Milano    ┆ 2023 ┆ https://l │\n",
       "│ 56cec84-7a ┆            ┆ 164        ┆            ┆   ┆ irectory. ┆ Universit ┆      ┆ ibri.unim │\n",
       "│ 0b-41f5-a8 ┆            ┆            ┆            ┆   ┆ doabooks. ┆ y Press   ┆      ┆ i.it/inde │\n",
       "│ 32…        ┆            ┆            ┆            ┆   ┆ org/b…    ┆           ┆      ┆ x.php…    │\n",
       "│ OAPEN-ID_2 ┆ 48938      ┆ 9783428555 ┆ 10.3790/97 ┆ … ┆ https://d ┆ Duncker & ┆ 2019 ┆ null      │\n",
       "│ 9b8ae26-60 ┆            ┆ 413        ┆ 8-3-428-55 ┆   ┆ irectory. ┆ Humblot   ┆      ┆           │\n",
       "│ 6e-4278-b9 ┆            ┆            ┆ 541-3      ┆   ┆ doabooks. ┆           ┆      ┆           │\n",
       "│ a2…        ┆            ┆            ┆            ┆   ┆ org/b…    ┆           ┆      ┆           │\n",
       "└────────────┴────────────┴────────────┴────────────┴───┴───────────┴───────────┴──────┴───────────┘"
      ]
     },
     "execution_count": 4,
     "metadata": {},
     "output_type": "execute_result"
    }
   ],
   "source": [
    "import polars as pl\n",
    "\n",
    "df = pl.DataFrame((Product(product).to_dict() for product in products))\n",
    "df"
   ]
  },
  {
   "cell_type": "code",
   "execution_count": 5,
   "id": "c739aa2a",
   "metadata": {},
   "outputs": [],
   "source": [
    "df.write_parquet('../data/doab.parquet')"
   ]
  },
  {
   "cell_type": "code",
   "execution_count": 8,
   "id": "4f9e2bbe",
   "metadata": {},
   "outputs": [],
   "source": [
    "df.to_pandas().sample(1000).to_csv('../data/doab.csv', index=False)"
   ]
  },
  {
   "cell_type": "code",
   "execution_count": null,
   "id": "4b63ae66",
   "metadata": {},
   "outputs": [],
   "source": []
  }
 ],
 "metadata": {
  "kernelspec": {
   "display_name": "Python 3 (ipykernel)",
   "language": "python",
   "name": "python3"
  },
  "language_info": {
   "codemirror_mode": {
    "name": "ipython",
    "version": 3
   },
   "file_extension": ".py",
   "mimetype": "text/x-python",
   "name": "python",
   "nbconvert_exporter": "python",
   "pygments_lexer": "ipython3",
   "version": "3.10.6"
  }
 },
 "nbformat": 4,
 "nbformat_minor": 5
}
