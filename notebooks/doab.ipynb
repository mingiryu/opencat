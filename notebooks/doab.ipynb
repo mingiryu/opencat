{
 "cells": [
  {
   "cell_type": "code",
   "execution_count": 2,
   "id": "4d4f0c64",
   "metadata": {},
   "outputs": [],
   "source": [
    "from opencat.doab import *"
   ]
  },
  {
   "cell_type": "code",
   "execution_count": 3,
   "id": "ba9009e0",
   "metadata": {},
   "outputs": [],
   "source": [
    "products = get_products()"
   ]
  },
  {
   "cell_type": "code",
   "execution_count": null,
   "id": "4866de2e",
   "metadata": {},
   "outputs": [],
   "source": [
    "Product(products[0]).to_dict()"
   ]
  },
  {
   "cell_type": "code",
   "execution_count": null,
   "id": "2775c2eb",
   "metadata": {},
   "outputs": [],
   "source": [
    "import polars as pl\n",
    "\n",
    "df = pl.DataFrame((Product(product).to_dict() for product in products))\n",
    "df"
   ]
  },
  {
   "cell_type": "code",
   "execution_count": null,
   "id": "c739aa2a",
   "metadata": {},
   "outputs": [],
   "source": [
    "df.write_parquet('../data/doab.parquet')"
   ]
  },
  {
   "cell_type": "code",
   "execution_count": null,
   "id": "4f9e2bbe",
   "metadata": {},
   "outputs": [],
   "source": []
  }
 ],
 "metadata": {
  "kernelspec": {
   "display_name": "Python 3 (ipykernel)",
   "language": "python",
   "name": "python3"
  },
  "language_info": {
   "codemirror_mode": {
    "name": "ipython",
    "version": 3
   },
   "file_extension": ".py",
   "mimetype": "text/x-python",
   "name": "python",
   "nbconvert_exporter": "python",
   "pygments_lexer": "ipython3",
   "version": "3.10.6"
  }
 },
 "nbformat": 4,
 "nbformat_minor": 5
}
