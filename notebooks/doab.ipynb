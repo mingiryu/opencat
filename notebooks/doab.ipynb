{
 "cells": [
  {
   "cell_type": "code",
   "execution_count": 1,
   "id": "4d4f0c64",
   "metadata": {},
   "outputs": [],
   "source": [
    "from opencat.doab import *"
   ]
  },
  {
   "cell_type": "code",
   "execution_count": 2,
   "id": "5cf5038a",
   "metadata": {},
   "outputs": [],
   "source": [
    "products = get_products()"
   ]
  },
  {
   "cell_type": "code",
   "execution_count": 3,
   "id": "4866de2e",
   "metadata": {},
   "outputs": [
    {
     "data": {
      "text/plain": [
       "{'id': 'OAPEN-ID_7853dc44-d6f3-44c1-a52e-974639b544ec',\n",
       " 'doab': 'ONIX_20211118_9782889630097_306',\n",
       " 'isbn': '9782889630097',\n",
       " 'doi': None,\n",
       " 'title': 'Public Health Genomics',\n",
       " 'subtitle': None,\n",
       " 'contributors': [{'position': '1',\n",
       "   'role': 'editor',\n",
       "   'keynames': 'Lacaze',\n",
       "   'forenames': 'Paul'},\n",
       "  {'position': '2',\n",
       "   'role': 'editor',\n",
       "   'keynames': 'Baynam',\n",
       "   'forenames': 'Gareth'}],\n",
       " 'description': 'This eBook is a collection of articles from a Frontiers Research Topic. Frontiers Research Topics are very popular trademarks of the Frontiers Journals Series: they are collections of at least ten articles, all centered on a particular subject. With their unique mix of varied contributions from Original Research to Review Articles, Frontiers Research Topics unify the most influential researchers, the latest key findings and historical advances in a hot research area! Find out more on how to host your own Frontiers Research Topic or contribute to one as an author by contacting the Frontiers Editorial Office: frontiersin.org/about/contact',\n",
       " 'publisher': 'Frontiers Media SA',\n",
       " 'year': '2019',\n",
       " 'url': 'https://www.frontiersin.org/research-topics/6736/public-health-genomics'}"
      ]
     },
     "execution_count": 3,
     "metadata": {},
     "output_type": "execute_result"
    }
   ],
   "source": [
    "Product(products[0]).to_dict()"
   ]
  },
  {
   "cell_type": "code",
   "execution_count": 4,
   "id": "0ed3081b",
   "metadata": {},
   "outputs": [
    {
     "data": {
      "text/html": [
       "<i>naive plan: (run <b>LazyFrame.explain(optimized=True)</b> to see the optimized plan)</i>\n",
       "    <p></p>\n",
       "    <div>DF [\"id\", \"doab\", \"isbn\", \"doi\"]; PROJECT */11 COLUMNS; SELECTION: \"None\"</div>"
      ],
      "text/plain": [
       "<polars.LazyFrame object at 0x7F54FC939210>"
      ]
     },
     "execution_count": 4,
     "metadata": {},
     "output_type": "execute_result"
    }
   ],
   "source": [
    "import polars as pl\n",
    "\n",
    "df = pl.LazyFrame((Product(product).to_dict() for product in products))\n",
    "df"
   ]
  },
  {
   "cell_type": "code",
   "execution_count": 5,
   "id": "9ce50188",
   "metadata": {},
   "outputs": [
    {
     "data": {
      "text/html": [
       "<div><style>\n",
       ".dataframe > thead > tr > th,\n",
       ".dataframe > tbody > tr > td {\n",
       "  text-align: right;\n",
       "}\n",
       "</style>\n",
       "<small>shape: (66559, 11)</small><table border=\"1\" class=\"dataframe\"><thead><tr><th>id</th><th>doab</th><th>isbn</th><th>doi</th><th>title</th><th>subtitle</th><th>contributors</th><th>description</th><th>publisher</th><th>year</th><th>url</th></tr><tr><td>str</td><td>str</td><td>str</td><td>bool</td><td>str</td><td>str</td><td>list[struct[4]]</td><td>str</td><td>str</td><td>str</td><td>str</td></tr></thead><tbody><tr><td>&quot;OAPEN-ID_7853d…</td><td>&quot;ONIX_20211118_…</td><td>&quot;9782889630097&quot;</td><td>null</td><td>&quot;Public Health …</td><td>null</td><td>[{&quot;1&quot;,&quot;editor&quot;,&quot;Lacaze&quot;,&quot;Paul&quot;}, {&quot;2&quot;,&quot;editor&quot;,&quot;Baynam&quot;,&quot;Gareth&quot;}]</td><td>&quot;This eBook is …</td><td>&quot;Frontiers Medi…</td><td>&quot;2019&quot;</td><td>&quot;https://www.fr…</td></tr><tr><td>&quot;OAPEN-ID_b575c…</td><td>&quot;22713&quot;</td><td>&quot;9782821844124&quot;</td><td>null</td><td>&quot;Oruro 1781: Su…</td><td>null</td><td>[{&quot;1&quot;,&quot;author&quot;,&quot;Fernando Cajías de la Vega&quot;,null}]</td><td>&quot;“ORURO 1781: S…</td><td>&quot;Institut franç…</td><td>&quot;2005&quot;</td><td>&quot;http://books.o…</td></tr><tr><td>&quot;OAPEN-ID_23a88…</td><td>&quot;41792&quot;</td><td>&quot;9782753560093&quot;</td><td>null</td><td>&quot;Solange Corbin…</td><td>null</td><td>[{&quot;1&quot;,&quot;author&quot;,&quot;Jean Gribenski&quot;,null}, {&quot;2&quot;,&quot;author&quot;,&quot;Isabelle His&quot;,null}, {&quot;3&quot;,&quot;author&quot;,&quot;Christelle Cazaux-Kowalski&quot;,null}]</td><td>&quot;Le présent ouv…</td><td>&quot;Presses univer…</td><td>&quot;2015&quot;</td><td>&quot;http://books.o…</td></tr><tr><td>&quot;OAPEN-ID_7b7b4…</td><td>&quot;39967&quot;</td><td>&quot;9782847888454&quot;</td><td>null</td><td>&quot;Le lycée profe…</td><td>null</td><td>[{&quot;1&quot;,&quot;author&quot;,&quot;Hélène Buisson-Fenet&quot;,null}, {&quot;2&quot;,&quot;author&quot;,&quot;Olivier Rey&quot;,null}]</td><td>&quot;Le bac profess…</td><td>&quot;ENS Éditions&quot;</td><td>&quot;2016&quot;</td><td>&quot;http://books.o…</td></tr><tr><td>&quot;OAPEN-ID_50cd3…</td><td>&quot;20242&quot;</td><td>&quot;9783486715194&quot;</td><td>null</td><td>&quot;Pariser Histor…</td><td>null</td><td>[{&quot;1&quot;,&quot;author&quot;,&quot;Léon&quot;,&quot;Cristina&quot;}]</td><td>&quot;Die Pariser Vo…</td><td>&quot;De Gruyter&quot;</td><td>&quot;2012&quot;</td><td>&quot;https://doi.or…</td></tr><tr><td>&quot;OAPEN-ID_aff6b…</td><td>&quot;29465&quot;</td><td>&quot;9783845270364&quot;</td><td>null</td><td>&quot;Abhandlungen z…</td><td>&quot;Das skandinavi…</td><td>[{&quot;1&quot;,&quot;author&quot;,&quot;Trumpke&quot;,&quot;Felix&quot;}]</td><td>&quot;Subject of thi…</td><td>&quot;Nomos Verlagsg…</td><td>&quot;2016&quot;</td><td>&quot;https://www.no…</td></tr><tr><td>&quot;OAPEN-ID_68125…</td><td>&quot;15824&quot;</td><td>&quot;9782351591758&quot;</td><td>null</td><td>&quot;La gent d’État…</td><td>null</td><td>[{&quot;1&quot;,&quot;author&quot;,&quot;Colette Establet&quot;,&quot;Jean-Paul Pascual&quot;}]</td><td>&quot;Dans cet ouvra…</td><td>&quot;Presses de l’I…</td><td>&quot;2011&quot;</td><td>&quot;http://books.o…</td></tr><tr><td>&quot;OAPEN-ID_dd887…</td><td>&quot;ONIX_20220121_…</td><td>&quot;9781839694073&quot;</td><td>null</td><td>&quot;Middleware Arc…</td><td>null</td><td>[{&quot;1&quot;,&quot;editor&quot;,&quot;Ajana El Khaddar&quot;,&quot;Mehdia&quot;}]</td><td>&quot;Middleware ref…</td><td>&quot;IntechOpen&quot;</td><td>&quot;2021&quot;</td><td>&quot;https://www.in…</td></tr><tr><td>&quot;OAPEN-ID_6c706…</td><td>&quot;ONIX_20210420_…</td><td>&quot;9781839625114&quot;</td><td>null</td><td>&quot;Feed Your Mind…</td><td>&quot;How Does Nutri…</td><td>[{&quot;1&quot;,&quot;editor&quot;,&quot;Bosch-Bouju&quot;,&quot;Clémentine&quot;}, {&quot;2&quot;,&quot;editor&quot;,&quot;Layé&quot;,&quot;Sophie&quot;}, {&quot;3&quot;,&quot;editor&quot;,&quot;Pallet&quot;,&quot;Véronique&quot;}]</td><td>&quot;Nutrition is a…</td><td>&quot;IntechOpen&quot;</td><td>&quot;2019&quot;</td><td>&quot;https://mts.in…</td></tr><tr><td>&quot;OAPEN-ID_251fc…</td><td>&quot;ONIX_20210420_…</td><td>&quot;9789533071350&quot;</td><td>null</td><td>&quot;Satellite Comm…</td><td>null</td><td>[{&quot;1&quot;,&quot;editor&quot;,&quot;Diodato&quot;,&quot;Nazzareno&quot;}]</td><td>&quot;This study is …</td><td>&quot;IntechOpen&quot;</td><td>&quot;2010&quot;</td><td>&quot;https://mts.in…</td></tr><tr><td>&quot;OAPEN-ID_d242d…</td><td>&quot;51757&quot;</td><td>&quot;9783111669489&quot;</td><td>null</td><td>&quot;Datenbanksyste…</td><td>null</td><td>[{&quot;1&quot;,&quot;author&quot;,&quot;Ahrens&quot;,&quot;Friedhelm&quot;}, {&quot;2&quot;,&quot;author&quot;,&quot;Walter&quot;,&quot;Helmut&quot;}]</td><td>null</td><td>&quot;De Gruyter&quot;</td><td>&quot;1971&quot;</td><td>&quot;https://doi.or…</td></tr><tr><td>&quot;OAPEN-ID_c28c0…</td><td>&quot;41252&quot;</td><td>&quot;9791036502118&quot;</td><td>null</td><td>&quot;Nouvelles écri…</td><td>null</td><td>[{&quot;1&quot;,&quot;author&quot;,&quot;Jean Cléo Godin&quot;,null}]</td><td>&quot;Le terme « bar…</td><td>&quot;Presses de l’U…</td><td>&quot;2001&quot;</td><td>&quot;http://books.o…</td></tr><tr><td>&hellip;</td><td>&hellip;</td><td>&hellip;</td><td>&hellip;</td><td>&hellip;</td><td>&hellip;</td><td>&hellip;</td><td>&hellip;</td><td>&hellip;</td><td>&hellip;</td><td>&hellip;</td></tr><tr><td>&quot;OAPEN-ID_efd26…</td><td>&quot;ONIX_20230405_…</td><td>&quot;9783036569758&quot;</td><td>null</td><td>&quot;Sustainable Pr…</td><td>null</td><td>[{&quot;1&quot;,&quot;editor&quot;,&quot;Palet&quot;,&quot;Cristina&quot;}, {&quot;2&quot;,&quot;editor&quot;,&quot;Bastos-Arrieta&quot;,&quot;Julio&quot;}]</td><td>&quot;This article c…</td><td>&quot;MDPI - Multidi…</td><td>&quot;2023&quot;</td><td>&quot;https://mdpi.c…</td></tr><tr><td>&quot;OAPEN-ID_cfa9b…</td><td>null</td><td>&quot;978-612-5069-6…</td><td>null</td><td>&quot;Guía metodológ…</td><td>&quot;Categorización…</td><td>[{&quot;1&quot;,&quot;author&quot;,&quot;Condori-Chura&quot;,&quot;Delia&quot;}, {&quot;2&quot;,&quot;author&quot;,&quot;Flores&quot;,&quot;Antonio&quot;}, … {&quot;4&quot;,&quot;author&quot;,&quot;Gutiérrez&quot;,&quot;Lézany&quot;}]</td><td>&quot;El presente tr…</td><td>&quot;Instituto Univ…</td><td>&quot;2023&quot;</td><td>&quot;https://doi.or…</td></tr><tr><td>&quot;OAPEN-ID_ee037…</td><td>&quot;ONIX_20230405_…</td><td>&quot;9783036571263&quot;</td><td>null</td><td>&quot;Microfluidics …</td><td>null</td><td>[{&quot;1&quot;,&quot;editor&quot;,&quot;Xiang&quot;,&quot;Nan&quot;}, {&quot;2&quot;,&quot;editor&quot;,&quot;Ni&quot;,&quot;Zhonghua&quot;}]</td><td>&quot;This reprint f…</td><td>&quot;MDPI - Multidi…</td><td>&quot;2023&quot;</td><td>&quot;https://mdpi.c…</td></tr><tr><td>&quot;OAPEN-ID_9e9cc…</td><td>null</td><td>&quot;978-612-5069-6…</td><td>null</td><td>&quot;Narración y ex…</td><td>null</td><td>[{&quot;1&quot;,&quot;author&quot;,&quot;Lupo&quot;,&quot;Nelly&quot;}, {&quot;2&quot;,&quot;author&quot;,&quot;Herrera&quot;,&quot;Alhi&quot;}, {&quot;3&quot;,&quot;author&quot;,&quot;Cotrado&quot;,&quot;Sheylla&quot;}]</td><td>&quot;El libro es un…</td><td>&quot;Instituto Univ…</td><td>&quot;2023&quot;</td><td>&quot;https://doi.or…</td></tr><tr><td>&quot;OAPEN-ID_3b00b…</td><td>null</td><td>&quot;978-612-5069-6…</td><td>null</td><td>&quot;TICs y rendimi…</td><td>null</td><td>[{&quot;1&quot;,&quot;author&quot;,&quot;Ortiz&quot;,&quot;Jaime&quot;}, {&quot;2&quot;,&quot;author&quot;,&quot;Quispe&quot;,&quot;Heydi&quot;}, … {&quot;7&quot;,&quot;editor&quot;,&quot;Surichaqui&quot;,&quot;Franklin&quot;}]</td><td>&quot;El libro es un…</td><td>&quot;Instituto Univ…</td><td>&quot;2023&quot;</td><td>&quot;https://doi.or…</td></tr><tr><td>&quot;OAPEN-ID_8f32e…</td><td>null</td><td>&quot;978-612-5069-6…</td><td>null</td><td>&quot;Monitoreo peda…</td><td>null</td><td>[{&quot;1&quot;,&quot;author&quot;,&quot;Lupo&quot;,&quot;Nelly&quot;}, {&quot;2&quot;,&quot;author&quot;,&quot;Herrera&quot;,&quot;Alhi&quot;}, {&quot;3&quot;,&quot;author&quot;,&quot;Cotrado&quot;,&quot;Sheylla&quot;}]</td><td>&quot;El libro es un…</td><td>&quot;Instituto Univ…</td><td>&quot;2023&quot;</td><td>&quot;https://doi.or…</td></tr><tr><td>&quot;OAPEN-ID_4b20f…</td><td>&quot;1002431&quot;</td><td>&quot;9783937816098&quot;</td><td>null</td><td>&quot;Veröffentlichu…</td><td>null</td><td>[{&quot;1&quot;,&quot;editor&quot;,&quot;Hering&quot;,&quot;Rainer&quot;}, {&quot;2&quot;,&quot;editor&quot;,&quot;Schäfer&quot;,&quot;Udo&quot;}, {&quot;3&quot;,&quot;editor&quot;,&quot;der Freien und Hansestadt Hamburg&quot;,&quot;Staatsarchiv&quot;}]</td><td>&quot;Digital storag…</td><td>&quot;Hamburg Univer…</td><td>&quot;2004&quot;</td><td>&quot;https://librar…</td></tr><tr><td>&quot;OAPEN-ID_c473a…</td><td>null</td><td>&quot;978-3-7489-387…</td><td>null</td><td>&quot;Schriften zum …</td><td>&quot;Unter besonder…</td><td>[{&quot;1&quot;,&quot;author&quot;,&quot;Schmitt-Mücke&quot;,&quot;Caroline&quot;}]</td><td>&quot;The dissertati…</td><td>&quot;Nomos Verlagsg…</td><td>&quot;2023&quot;</td><td>null</td></tr><tr><td>&quot;OAPEN-ID_a2a13…</td><td>&quot;1004962&quot;</td><td>&quot;9781787352537&quot;</td><td>null</td><td>&quot;Reflexive Tran…</td><td>&quot;Translation as…</td><td>[{&quot;1&quot;,&quot;author&quot;,&quot;Kadiu&quot;,&quot;Silvia&quot;}]</td><td>&quot;In the past de…</td><td>&quot;UCL Press&quot;</td><td>&quot;2019&quot;</td><td>&quot;https://librar…</td></tr><tr><td>&quot;OAPEN-ID_7ab3b…</td><td>&quot;1002415&quot;</td><td>&quot;9783937816708&quot;</td><td>null</td><td>&quot;Mäzene für Wis…</td><td>null</td><td>[{&quot;1&quot;,&quot;author&quot;,&quot;Schröder&quot;,&quot;Hans Joachim&quot;}, {&quot;2&quot;,&quot;editor&quot;,&quot;Nümann&quot;,&quot;Ekkehard W.&quot;}, {&quot;3&quot;,&quot;editor&quot;,&quot;Wissenschaftliche Stiftung&quot;,&quot;Hamburgische&quot;}]</td><td>&quot;Ernst Friedric…</td><td>&quot;Hamburg Univer…</td><td>&quot;2009&quot;</td><td>&quot;https://librar…</td></tr><tr><td>&quot;OAPEN-ID_a56ce…</td><td>null</td><td>&quot;979-12-5510-01…</td><td>null</td><td>&quot;Consonanze&quot;</td><td>null</td><td>[{&quot;1&quot;,&quot;author&quot;,&quot;Narros&quot;,&quot;Jacopo&quot;}]</td><td>&quot;An abbot, a jo…</td><td>&quot;Milano Univers…</td><td>&quot;2023&quot;</td><td>&quot;https://libri.…</td></tr><tr><td>&quot;OAPEN-ID_29b8a…</td><td>&quot;48938&quot;</td><td>&quot;978-3-428-5554…</td><td>null</td><td>&quot;Deutsche Gesch…</td><td>&quot;Hrsg. von Thom…</td><td>[{&quot;1&quot;,&quot;author&quot;,&quot;Sombart&quot;,&quot;Werner&quot;}, {&quot;2&quot;,&quot;editor&quot;,&quot;Kroll&quot;,&quot;Thomas&quot;}, … {&quot;4&quot;,&quot;editor&quot;,&quot;Schellenberger&quot;,&quot;Michael&quot;}]</td><td>&quot;The select cor…</td><td>&quot;Duncker &amp; Humb…</td><td>&quot;2019&quot;</td><td>null</td></tr></tbody></table></div>"
      ],
      "text/plain": [
       "shape: (66_559, 11)\n",
       "┌─────────────┬─────────────┬─────────────┬──────┬───┬───────────┬─────────────┬──────┬────────────┐\n",
       "│ id          ┆ doab        ┆ isbn        ┆ doi  ┆ … ┆ descripti ┆ publisher   ┆ year ┆ url        │\n",
       "│ ---         ┆ ---         ┆ ---         ┆ ---  ┆   ┆ on        ┆ ---         ┆ ---  ┆ ---        │\n",
       "│ str         ┆ str         ┆ str         ┆ bool ┆   ┆ ---       ┆ str         ┆ str  ┆ str        │\n",
       "│             ┆             ┆             ┆      ┆   ┆ str       ┆             ┆      ┆            │\n",
       "╞═════════════╪═════════════╪═════════════╪══════╪═══╪═══════════╪═════════════╪══════╪════════════╡\n",
       "│ OAPEN-ID_78 ┆ ONIX_202111 ┆ 97828896300 ┆ null ┆ … ┆ This      ┆ Frontiers   ┆ 2019 ┆ https://ww │\n",
       "│ 53dc44-d6f3 ┆ 18_97828896 ┆ 97          ┆      ┆   ┆ eBook is  ┆ Media SA    ┆      ┆ w.frontier │\n",
       "│ -44c1-a52e… ┆ 30097_306   ┆             ┆      ┆   ┆ a collect ┆             ┆      ┆ sin.org/re │\n",
       "│             ┆             ┆             ┆      ┆   ┆ ion of    ┆             ┆      ┆ se…        │\n",
       "│             ┆             ┆             ┆      ┆   ┆ ar…       ┆             ┆      ┆            │\n",
       "│ OAPEN-ID_b5 ┆ 22713       ┆ 97828218441 ┆ null ┆ … ┆ “ORURO    ┆ Institut    ┆ 2005 ┆ http://boo │\n",
       "│ 75c8ab-5810 ┆             ┆ 24          ┆      ┆   ┆ 1781: SUB ┆ français    ┆      ┆ ks.openedi │\n",
       "│ -4883-8df1… ┆             ┆             ┆      ┆   ┆ LEVACIÓN  ┆ d’études    ┆      ┆ tion.org/i │\n",
       "│             ┆             ┆             ┆      ┆   ┆ DE INDI…  ┆ andin…      ┆      ┆ fe…        │\n",
       "│ OAPEN-ID_23 ┆ 41792       ┆ 97827535600 ┆ null ┆ … ┆ Le        ┆ Presses uni ┆ 2015 ┆ http://boo │\n",
       "│ a88dfd-1bda ┆             ┆ 93          ┆      ┆   ┆ présent   ┆ versitaires ┆      ┆ ks.openedi │\n",
       "│ -49a4-8553… ┆             ┆             ┆      ┆   ┆ ouvrage   ┆ de Rennes   ┆      ┆ tion.org/p │\n",
       "│             ┆             ┆             ┆      ┆   ┆ rassemble ┆             ┆      ┆ ur…        │\n",
       "│             ┆             ┆             ┆      ┆   ┆ la …      ┆             ┆      ┆            │\n",
       "│ OAPEN-ID_7b ┆ 39967       ┆ 97828478884 ┆ null ┆ … ┆ Le bac    ┆ ENS         ┆ 2016 ┆ http://boo │\n",
       "│ 7b4c5b-5d3e ┆             ┆ 54          ┆      ┆   ┆ professio ┆ Éditions    ┆      ┆ ks.openedi │\n",
       "│ -4894-9cf1… ┆             ┆             ┆      ┆   ┆ nnel fête ┆             ┆      ┆ tion.org/e │\n",
       "│             ┆             ┆             ┆      ┆   ┆ cette …   ┆             ┆      ┆ ns…        │\n",
       "│ …           ┆ …           ┆ …           ┆ …    ┆ … ┆ …         ┆ …           ┆ …    ┆ …          │\n",
       "│ OAPEN-ID_a2 ┆ 1004962     ┆ 97817873525 ┆ null ┆ … ┆ In the    ┆ UCL Press   ┆ 2019 ┆ https://li │\n",
       "│ a13ef5-8645 ┆             ┆ 37          ┆      ┆   ┆ past      ┆             ┆      ┆ brary.oape │\n",
       "│ -45a9-92d8… ┆             ┆             ┆      ┆   ┆ decades,  ┆             ┆      ┆ n.org/bits │\n",
       "│             ┆             ┆             ┆      ┆   ┆ translati ┆             ┆      ┆ tr…        │\n",
       "│             ┆             ┆             ┆      ┆   ┆ on…       ┆             ┆      ┆            │\n",
       "│ OAPEN-ID_7a ┆ 1002415     ┆ 97839378167 ┆ null ┆ … ┆ Ernst     ┆ Hamburg     ┆ 2009 ┆ https://li │\n",
       "│ b3b540-d7a2 ┆             ┆ 08          ┆      ┆   ┆ Friedrich ┆ University  ┆      ┆ brary.oape │\n",
       "│ -4dc6-8ca6… ┆             ┆             ┆      ┆   ┆ Sieveking ┆ Press       ┆      ┆ n.org/bits │\n",
       "│             ┆             ┆             ┆      ┆   ┆ is one…   ┆             ┆      ┆ tr…        │\n",
       "│ OAPEN-ID_a5 ┆ null        ┆ 979-12-5510 ┆ null ┆ … ┆ An abbot, ┆ Milano      ┆ 2023 ┆ https://li │\n",
       "│ 6cec84-7a0b ┆             ┆ -016-4      ┆      ┆   ┆ a journal ┆ University  ┆      ┆ bri.unimi. │\n",
       "│ -41f5-a832… ┆             ┆             ┆      ┆   ┆ ist, and  ┆ Press       ┆      ┆ it/index.p │\n",
       "│             ┆             ┆             ┆      ┆   ┆ a ma…     ┆             ┆      ┆ hp…        │\n",
       "│ OAPEN-ID_29 ┆ 48938       ┆ 978-3-428-5 ┆ null ┆ … ┆ The       ┆ Duncker &   ┆ 2019 ┆ null       │\n",
       "│ b8ae26-606e ┆             ┆ 5541-3      ┆      ┆   ┆ select    ┆ Humblot     ┆      ┆            │\n",
       "│ -4278-b9a2… ┆             ┆             ┆      ┆   ┆ correspon ┆             ┆      ┆            │\n",
       "│             ┆             ┆             ┆      ┆   ┆ dance of  ┆             ┆      ┆            │\n",
       "│             ┆             ┆             ┆      ┆   ┆ Wer…      ┆             ┆      ┆            │\n",
       "└─────────────┴─────────────┴─────────────┴──────┴───┴───────────┴─────────────┴──────┴────────────┘"
      ]
     },
     "execution_count": 5,
     "metadata": {},
     "output_type": "execute_result"
    }
   ],
   "source": [
    "df.collect()"
   ]
  },
  {
   "cell_type": "code",
   "execution_count": 6,
   "id": "6afc7be3",
   "metadata": {},
   "outputs": [
    {
     "data": {
      "text/html": [
       "<div><style>\n",
       ".dataframe > thead > tr > th,\n",
       ".dataframe > tbody > tr > td {\n",
       "  text-align: right;\n",
       "}\n",
       "</style>\n",
       "<small>shape: (0, 11)</small><table border=\"1\" class=\"dataframe\"><thead><tr><th>id</th><th>doab</th><th>isbn</th><th>doi</th><th>title</th><th>subtitle</th><th>contributors</th><th>description</th><th>publisher</th><th>year</th><th>url</th></tr><tr><td>str</td><td>str</td><td>str</td><td>bool</td><td>str</td><td>str</td><td>list[struct[4]]</td><td>str</td><td>str</td><td>str</td><td>str</td></tr></thead><tbody></tbody></table></div>"
      ],
      "text/plain": [
       "shape: (0, 11)\n",
       "┌─────┬──────┬──────┬──────┬───┬─────────────┬───────────┬──────┬─────┐\n",
       "│ id  ┆ doab ┆ isbn ┆ doi  ┆ … ┆ description ┆ publisher ┆ year ┆ url │\n",
       "│ --- ┆ ---  ┆ ---  ┆ ---  ┆   ┆ ---         ┆ ---       ┆ ---  ┆ --- │\n",
       "│ str ┆ str  ┆ str  ┆ bool ┆   ┆ str         ┆ str       ┆ str  ┆ str │\n",
       "╞═════╪══════╪══════╪══════╪═══╪═════════════╪═══════════╪══════╪═════╡\n",
       "└─────┴──────┴──────┴──────┴───┴─────────────┴───────────┴──────┴─────┘"
      ]
     },
     "execution_count": 6,
     "metadata": {},
     "output_type": "execute_result"
    }
   ],
   "source": [
    "df.filter(pl.col('isbn').str.contains('/')).collect()"
   ]
  },
  {
   "cell_type": "code",
   "execution_count": null,
   "id": "a99fd976",
   "metadata": {},
   "outputs": [],
   "source": []
  }
 ],
 "metadata": {
  "kernelspec": {
   "display_name": "Python 3 (ipykernel)",
   "language": "python",
   "name": "python3"
  },
  "language_info": {
   "codemirror_mode": {
    "name": "ipython",
    "version": 3
   },
   "file_extension": ".py",
   "mimetype": "text/x-python",
   "name": "python",
   "nbconvert_exporter": "python",
   "pygments_lexer": "ipython3",
   "version": "3.10.6"
  }
 },
 "nbformat": 4,
 "nbformat_minor": 5
}
